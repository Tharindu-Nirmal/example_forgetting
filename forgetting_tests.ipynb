{
 "cells": [
  {
   "cell_type": "markdown",
   "metadata": {},
   "source": [
    "After training and ordering the data in order of 'forgetting score', we can train the network for different fractions of data."
   ]
  },
  {
   "cell_type": "markdown",
   "metadata": {},
   "source": [
    "### Out of the 60,000 MNIST datapoints, when we remove 1000 "
   ]
  },
  {
   "cell_type": "code",
   "execution_count": 6,
   "metadata": {},
   "outputs": [
    {
     "name": "stdout",
     "output_type": "stream",
     "text": [
      "{'dataset': 'mnist', 'batch_size': 64, 'epochs': 5, 'lr': 0.01, 'momentum': 0.5, 'no_cuda': False, 'seed': 1, 'sorting_file': 'mnist_sorted', 'remove_n': 1000, 'keep_lowest_n': 0, 'no_dropout': True, 'input_dir': 'mnist_results', 'output_dir': 'mnist_results'}\n",
      "Training on 59000 examples\n"
     ]
    },
    {
     "name": "stderr",
     "output_type": "stream",
     "text": [
      "c:\\Users\\thari\\anaconda3\\envs\\batchpruning\\lib\\site-packages\\torch\\nn\\_reduction.py:42: UserWarning: size_average and reduce args will be deprecated, please use reduction='none' instead.\n",
      "  warnings.warn(warning.format(ret))\n"
     ]
    },
    {
     "name": "stdout",
     "output_type": "stream",
     "text": [
      "| Epoch [  0/  5] Iter[922/922]\t\tLoss: 0.1541 Acc@1: 86.037%\n",
      "| Validation Epoch #0\t\t\tLoss: 0.0547 Acc@1: 95.75%\n",
      "| Elapsed time : 0:00:50\n",
      "| Epoch [  1/  5] Iter[922/922]\t\tLoss: 0.0329 Acc@1: 96.568%\n",
      "| Validation Epoch #1\t\t\tLoss: 0.0142 Acc@1: 97.47%\n",
      "| Elapsed time : 0:01:46\n",
      "| Epoch [  2/  5] Iter[922/922]\t\tLoss: 0.0191 Acc@1: 97.558%%\n",
      "| Validation Epoch #2\t\t\tLoss: 0.0025 Acc@1: 97.93%\n",
      "| Elapsed time : 0:02:42\n",
      "| Epoch [  3/  5] Iter[922/922]\t\tLoss: 0.0355 Acc@1: 98.039%\n",
      "| Validation Epoch #3\t\t\tLoss: 0.0052 Acc@1: 98.28%\n",
      "| Elapsed time : 0:03:38\n",
      "| Epoch [  4/  5] Iter[922/922]\t\tLoss: 0.0135 Acc@1: 98.290%\n",
      "| Validation Epoch #4\t\t\tLoss: 0.0013 Acc@1: 98.31%\n",
      "| Elapsed time : 0:04:33\n"
     ]
    }
   ],
   "source": [
    "%run run_mnist.py --dataset mnist --epochs 5 --seed 1 --no_dropout --sorting_file mnist_sorted --input_dir mnist_results --output_dir mnist_results --remove_n 1000"
   ]
  },
  {
   "cell_type": "code",
   "execution_count": 7,
   "metadata": {},
   "outputs": [
    {
     "name": "stdout",
     "output_type": "stream",
     "text": [
      "{'dataset': 'mnist', 'batch_size': 64, 'epochs': 5, 'lr': 0.01, 'momentum': 0.5, 'no_cuda': False, 'seed': 1, 'sorting_file': 'mnist_sorted', 'remove_n': 20000, 'keep_lowest_n': 0, 'no_dropout': True, 'input_dir': 'mnist_results', 'output_dir': 'mnist_results'}\n",
      "Training on 40000 examples\n",
      "| Epoch [  0/  5] Iter[625/626]\t\tLoss: 0.2126 Acc@1: 80.520%\n",
      "| Validation Epoch #0\t\t\tLoss: 0.0456 Acc@1: 94.67%\n",
      "| Elapsed time : 0:00:32\n",
      "| Epoch [  1/  5] Iter[625/626]\t\tLoss: 0.1167 Acc@1: 94.970%\n",
      "| Validation Epoch #1\t\t\tLoss: 0.0266 Acc@1: 97.18%\n",
      "| Elapsed time : 0:01:09\n",
      "| Epoch [  2/  5] Iter[625/626]\t\tLoss: 0.0878 Acc@1: 96.255%%\n",
      "| Validation Epoch #2\t\t\tLoss: 0.0053 Acc@1: 97.67%\n",
      "| Elapsed time : 0:01:46\n",
      "| Epoch [  3/  5] Iter[625/626]\t\tLoss: 0.0842 Acc@1: 96.930%\n",
      "| Validation Epoch #3\t\t\tLoss: 0.0075 Acc@1: 98.03%\n",
      "| Elapsed time : 0:02:23\n",
      "| Epoch [  4/  5] Iter[625/626]\t\tLoss: 0.0272 Acc@1: 97.325%\n",
      "| Validation Epoch #4\t\t\tLoss: 0.0075 Acc@1: 98.12%\n",
      "| Elapsed time : 0:03:01\n"
     ]
    }
   ],
   "source": [
    "%run run_mnist.py --dataset mnist --epochs 5 --seed 1 --no_dropout --sorting_file mnist_sorted --input_dir mnist_results --output_dir mnist_results --remove_n 20000"
   ]
  }
 ],
 "metadata": {
  "kernelspec": {
   "display_name": "batchpruning",
   "language": "python",
   "name": "python3"
  },
  "language_info": {
   "codemirror_mode": {
    "name": "ipython",
    "version": 3
   },
   "file_extension": ".py",
   "mimetype": "text/x-python",
   "name": "python",
   "nbconvert_exporter": "python",
   "pygments_lexer": "ipython3",
   "version": "3.8.17"
  },
  "orig_nbformat": 4
 },
 "nbformat": 4,
 "nbformat_minor": 2
}
